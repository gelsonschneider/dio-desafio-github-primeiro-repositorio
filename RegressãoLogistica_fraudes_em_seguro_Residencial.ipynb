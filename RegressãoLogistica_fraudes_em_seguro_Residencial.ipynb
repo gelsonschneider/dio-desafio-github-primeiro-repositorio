{
  "nbformat": 4,
  "nbformat_minor": 0,
  "metadata": {
    "colab": {
      "name": "RegressãoLogistica fraudes em seguro Residencial.ipynb",
      "provenance": [],
      "authorship_tag": "ABX9TyOPsuCKUR+AfD0iO3WGQEPH",
      "include_colab_link": true
    },
    "kernelspec": {
      "name": "python3",
      "display_name": "Python 3"
    },
    "language_info": {
      "name": "python"
    }
  },
  "cells": [
    {
      "cell_type": "markdown",
      "metadata": {
        "id": "view-in-github",
        "colab_type": "text"
      },
      "source": [
        "<a href=\"https://colab.research.google.com/github/gelsonschneider/dio-desafio-github-primeiro-repositorio/blob/main/Regress%C3%A3oLogistica_fraudes_em_seguro_Residencial.ipynb\" target=\"_parent\"><img src=\"https://colab.research.google.com/assets/colab-badge.svg\" alt=\"Open In Colab\"/></a>"
      ]
    },
    {
      "cell_type": "markdown",
      "source": [
        "#Fraudes em Seguro Residencial\n",
        "Autor: Gelson André Schneider <br>\n",
        "Método: Análise Logistica <br>\n",
        "Data: 15/06/2022"
      ],
      "metadata": {
        "id": "JBA9JzaUF1dC"
      }
    },
    {
      "cell_type": "markdown",
      "source": [
        "##Importação das bibliotecas utilizadas"
      ],
      "metadata": {
        "id": "50Nfu7td2C_P"
      }
    },
    {
      "cell_type": "code",
      "execution_count": 3,
      "metadata": {
        "id": "tZW5y_MBCkuA"
      },
      "outputs": [],
      "source": [
        "import pandas as pd\n",
        "import matplotlib  as plot"
      ]
    },
    {
      "cell_type": "markdown",
      "source": [
        "##Carregando Daraset"
      ],
      "metadata": {
        "id": "kIOCWkSc2KB4"
      }
    },
    {
      "cell_type": "code",
      "source": [
        "data = pd.read_excel('/content/Seguro_Residencial.xlsx')"
      ],
      "metadata": {
        "id": "y4iZ5yldCz1i"
      },
      "execution_count": 5,
      "outputs": []
    },
    {
      "cell_type": "markdown",
      "source": [
        "#Analise preliminar do DataSet"
      ],
      "metadata": {
        "id": "yRabOtUl2UpK"
      }
    },
    {
      "cell_type": "code",
      "source": [
        "data.info()"
      ],
      "metadata": {
        "colab": {
          "base_uri": "https://localhost:8080/"
        },
        "id": "WKzzotWsFPth",
        "outputId": "4607c0e1-1c37-42d2-f435-ce312b548b12"
      },
      "execution_count": 6,
      "outputs": [
        {
          "output_type": "stream",
          "name": "stdout",
          "text": [
            "<class 'pandas.core.frame.DataFrame'>\n",
            "RangeIndex: 4415 entries, 0 to 4414\n",
            "Data columns (total 19 columns):\n",
            " #   Column               Non-Null Count  Dtype         \n",
            "---  ------               --------------  -----         \n",
            " 0   Id                   4415 non-null   int64         \n",
            " 1   Data                 4415 non-null   datetime64[ns]\n",
            " 2   Tipo                 4415 non-null   int64         \n",
            " 3   Inabitavel           4415 non-null   int64         \n",
            " 4   Valor_reclamado      4415 non-null   float64       \n",
            " 5   Fraudulento          4415 non-null   int64         \n",
            " 6   Data_Apolice         4415 non-null   datetime64[ns]\n",
            " 7   Cobertura            4415 non-null   int64         \n",
            " 8   Valor_dedutivel      4415 non-null   int64         \n",
            " 9   Tamanho_cidade       4415 non-null   int64         \n",
            " 10  Sexo                 4415 non-null   int64         \n",
            " 11  Nascimento           4415 non-null   datetime64[ns]\n",
            " 12  Formação             4415 non-null   int64         \n",
            " 13  Inicio_trabalho      4415 non-null   datetime64[ns]\n",
            " 14  Aposentado           4415 non-null   int64         \n",
            " 15  Renda                4415 non-null   int64         \n",
            " 16  Estado_Civil         4415 non-null   int64         \n",
            " 17  Data_Ocupacao        4415 non-null   datetime64[ns]\n",
            " 18  residencia_primaria  4415 non-null   int64         \n",
            "dtypes: datetime64[ns](5), float64(1), int64(13)\n",
            "memory usage: 655.5 KB\n"
          ]
        }
      ]
    },
    {
      "cell_type": "code",
      "source": [
        "data.head()"
      ],
      "metadata": {
        "colab": {
          "base_uri": "https://localhost:8080/",
          "height": 206
        },
        "id": "G7FYRgjYEnzA",
        "outputId": "4fdce620-e4ad-4a66-bb29-6df45c0404d0"
      },
      "execution_count": 7,
      "outputs": [
        {
          "output_type": "execute_result",
          "data": {
            "text/plain": [
              "          Id                Data  Tipo  Inabitavel  Valor_reclamado  \\\n",
              "0  351069569 2008-01-18 10:09:59     3           0          192.287   \n",
              "1  806984053 2008-07-18 23:21:30     3           0          355.896   \n",
              "2  654100160 2008-03-01 00:42:16     5           0            3.530   \n",
              "3  653220231 2008-10-28 10:00:09     1           0           33.452   \n",
              "4  226637568 2008-05-31 03:55:07     5           0            4.029   \n",
              "\n",
              "   Fraudulento        Data_Apolice  Cobertura  Valor_dedutivel  \\\n",
              "0            0 1987-01-26 00:26:43        436             2000   \n",
              "1            0 1983-05-14 16:02:51        925             1000   \n",
              "2            0 1988-01-15 11:53:21         79             1000   \n",
              "3            0 2000-02-22 19:19:45        607             1000   \n",
              "4            0 2001-08-09 22:37:46        119             3000   \n",
              "\n",
              "   Tamanho_cidade  Sexo Nascimento  Formação Inicio_trabalho  Aposentado  \\\n",
              "0               1     1 1943-03-12         2      1981-04-16           0   \n",
              "1               2     0 1933-05-10         2      1982-11-04           0   \n",
              "2               1     1 1939-04-02         2      2004-08-20           0   \n",
              "3               1     0 1972-04-12         3      1999-07-29           0   \n",
              "4               5     1 1968-08-04         1      2004-07-04           0   \n",
              "\n",
              "   Renda  Estado_Civil Data_Ocupacao  residencia_primaria  \n",
              "0    193             0    1978-01-06                    1  \n",
              "1    203             0    1971-02-04                    1  \n",
              "2     49             0    1977-03-30                    1  \n",
              "3    118             1    1993-05-23                    1  \n",
              "4     18             0    2000-09-04                    1  "
            ],
            "text/html": [
              "\n",
              "  <div id=\"df-81e832ca-357f-49fa-93a0-da9801a93937\">\n",
              "    <div class=\"colab-df-container\">\n",
              "      <div>\n",
              "<style scoped>\n",
              "    .dataframe tbody tr th:only-of-type {\n",
              "        vertical-align: middle;\n",
              "    }\n",
              "\n",
              "    .dataframe tbody tr th {\n",
              "        vertical-align: top;\n",
              "    }\n",
              "\n",
              "    .dataframe thead th {\n",
              "        text-align: right;\n",
              "    }\n",
              "</style>\n",
              "<table border=\"1\" class=\"dataframe\">\n",
              "  <thead>\n",
              "    <tr style=\"text-align: right;\">\n",
              "      <th></th>\n",
              "      <th>Id</th>\n",
              "      <th>Data</th>\n",
              "      <th>Tipo</th>\n",
              "      <th>Inabitavel</th>\n",
              "      <th>Valor_reclamado</th>\n",
              "      <th>Fraudulento</th>\n",
              "      <th>Data_Apolice</th>\n",
              "      <th>Cobertura</th>\n",
              "      <th>Valor_dedutivel</th>\n",
              "      <th>Tamanho_cidade</th>\n",
              "      <th>Sexo</th>\n",
              "      <th>Nascimento</th>\n",
              "      <th>Formação</th>\n",
              "      <th>Inicio_trabalho</th>\n",
              "      <th>Aposentado</th>\n",
              "      <th>Renda</th>\n",
              "      <th>Estado_Civil</th>\n",
              "      <th>Data_Ocupacao</th>\n",
              "      <th>residencia_primaria</th>\n",
              "    </tr>\n",
              "  </thead>\n",
              "  <tbody>\n",
              "    <tr>\n",
              "      <th>0</th>\n",
              "      <td>351069569</td>\n",
              "      <td>2008-01-18 10:09:59</td>\n",
              "      <td>3</td>\n",
              "      <td>0</td>\n",
              "      <td>192.287</td>\n",
              "      <td>0</td>\n",
              "      <td>1987-01-26 00:26:43</td>\n",
              "      <td>436</td>\n",
              "      <td>2000</td>\n",
              "      <td>1</td>\n",
              "      <td>1</td>\n",
              "      <td>1943-03-12</td>\n",
              "      <td>2</td>\n",
              "      <td>1981-04-16</td>\n",
              "      <td>0</td>\n",
              "      <td>193</td>\n",
              "      <td>0</td>\n",
              "      <td>1978-01-06</td>\n",
              "      <td>1</td>\n",
              "    </tr>\n",
              "    <tr>\n",
              "      <th>1</th>\n",
              "      <td>806984053</td>\n",
              "      <td>2008-07-18 23:21:30</td>\n",
              "      <td>3</td>\n",
              "      <td>0</td>\n",
              "      <td>355.896</td>\n",
              "      <td>0</td>\n",
              "      <td>1983-05-14 16:02:51</td>\n",
              "      <td>925</td>\n",
              "      <td>1000</td>\n",
              "      <td>2</td>\n",
              "      <td>0</td>\n",
              "      <td>1933-05-10</td>\n",
              "      <td>2</td>\n",
              "      <td>1982-11-04</td>\n",
              "      <td>0</td>\n",
              "      <td>203</td>\n",
              "      <td>0</td>\n",
              "      <td>1971-02-04</td>\n",
              "      <td>1</td>\n",
              "    </tr>\n",
              "    <tr>\n",
              "      <th>2</th>\n",
              "      <td>654100160</td>\n",
              "      <td>2008-03-01 00:42:16</td>\n",
              "      <td>5</td>\n",
              "      <td>0</td>\n",
              "      <td>3.530</td>\n",
              "      <td>0</td>\n",
              "      <td>1988-01-15 11:53:21</td>\n",
              "      <td>79</td>\n",
              "      <td>1000</td>\n",
              "      <td>1</td>\n",
              "      <td>1</td>\n",
              "      <td>1939-04-02</td>\n",
              "      <td>2</td>\n",
              "      <td>2004-08-20</td>\n",
              "      <td>0</td>\n",
              "      <td>49</td>\n",
              "      <td>0</td>\n",
              "      <td>1977-03-30</td>\n",
              "      <td>1</td>\n",
              "    </tr>\n",
              "    <tr>\n",
              "      <th>3</th>\n",
              "      <td>653220231</td>\n",
              "      <td>2008-10-28 10:00:09</td>\n",
              "      <td>1</td>\n",
              "      <td>0</td>\n",
              "      <td>33.452</td>\n",
              "      <td>0</td>\n",
              "      <td>2000-02-22 19:19:45</td>\n",
              "      <td>607</td>\n",
              "      <td>1000</td>\n",
              "      <td>1</td>\n",
              "      <td>0</td>\n",
              "      <td>1972-04-12</td>\n",
              "      <td>3</td>\n",
              "      <td>1999-07-29</td>\n",
              "      <td>0</td>\n",
              "      <td>118</td>\n",
              "      <td>1</td>\n",
              "      <td>1993-05-23</td>\n",
              "      <td>1</td>\n",
              "    </tr>\n",
              "    <tr>\n",
              "      <th>4</th>\n",
              "      <td>226637568</td>\n",
              "      <td>2008-05-31 03:55:07</td>\n",
              "      <td>5</td>\n",
              "      <td>0</td>\n",
              "      <td>4.029</td>\n",
              "      <td>0</td>\n",
              "      <td>2001-08-09 22:37:46</td>\n",
              "      <td>119</td>\n",
              "      <td>3000</td>\n",
              "      <td>5</td>\n",
              "      <td>1</td>\n",
              "      <td>1968-08-04</td>\n",
              "      <td>1</td>\n",
              "      <td>2004-07-04</td>\n",
              "      <td>0</td>\n",
              "      <td>18</td>\n",
              "      <td>0</td>\n",
              "      <td>2000-09-04</td>\n",
              "      <td>1</td>\n",
              "    </tr>\n",
              "  </tbody>\n",
              "</table>\n",
              "</div>\n",
              "      <button class=\"colab-df-convert\" onclick=\"convertToInteractive('df-81e832ca-357f-49fa-93a0-da9801a93937')\"\n",
              "              title=\"Convert this dataframe to an interactive table.\"\n",
              "              style=\"display:none;\">\n",
              "        \n",
              "  <svg xmlns=\"http://www.w3.org/2000/svg\" height=\"24px\"viewBox=\"0 0 24 24\"\n",
              "       width=\"24px\">\n",
              "    <path d=\"M0 0h24v24H0V0z\" fill=\"none\"/>\n",
              "    <path d=\"M18.56 5.44l.94 2.06.94-2.06 2.06-.94-2.06-.94-.94-2.06-.94 2.06-2.06.94zm-11 1L8.5 8.5l.94-2.06 2.06-.94-2.06-.94L8.5 2.5l-.94 2.06-2.06.94zm10 10l.94 2.06.94-2.06 2.06-.94-2.06-.94-.94-2.06-.94 2.06-2.06.94z\"/><path d=\"M17.41 7.96l-1.37-1.37c-.4-.4-.92-.59-1.43-.59-.52 0-1.04.2-1.43.59L10.3 9.45l-7.72 7.72c-.78.78-.78 2.05 0 2.83L4 21.41c.39.39.9.59 1.41.59.51 0 1.02-.2 1.41-.59l7.78-7.78 2.81-2.81c.8-.78.8-2.07 0-2.86zM5.41 20L4 18.59l7.72-7.72 1.47 1.35L5.41 20z\"/>\n",
              "  </svg>\n",
              "      </button>\n",
              "      \n",
              "  <style>\n",
              "    .colab-df-container {\n",
              "      display:flex;\n",
              "      flex-wrap:wrap;\n",
              "      gap: 12px;\n",
              "    }\n",
              "\n",
              "    .colab-df-convert {\n",
              "      background-color: #E8F0FE;\n",
              "      border: none;\n",
              "      border-radius: 50%;\n",
              "      cursor: pointer;\n",
              "      display: none;\n",
              "      fill: #1967D2;\n",
              "      height: 32px;\n",
              "      padding: 0 0 0 0;\n",
              "      width: 32px;\n",
              "    }\n",
              "\n",
              "    .colab-df-convert:hover {\n",
              "      background-color: #E2EBFA;\n",
              "      box-shadow: 0px 1px 2px rgba(60, 64, 67, 0.3), 0px 1px 3px 1px rgba(60, 64, 67, 0.15);\n",
              "      fill: #174EA6;\n",
              "    }\n",
              "\n",
              "    [theme=dark] .colab-df-convert {\n",
              "      background-color: #3B4455;\n",
              "      fill: #D2E3FC;\n",
              "    }\n",
              "\n",
              "    [theme=dark] .colab-df-convert:hover {\n",
              "      background-color: #434B5C;\n",
              "      box-shadow: 0px 1px 3px 1px rgba(0, 0, 0, 0.15);\n",
              "      filter: drop-shadow(0px 1px 2px rgba(0, 0, 0, 0.3));\n",
              "      fill: #FFFFFF;\n",
              "    }\n",
              "  </style>\n",
              "\n",
              "      <script>\n",
              "        const buttonEl =\n",
              "          document.querySelector('#df-81e832ca-357f-49fa-93a0-da9801a93937 button.colab-df-convert');\n",
              "        buttonEl.style.display =\n",
              "          google.colab.kernel.accessAllowed ? 'block' : 'none';\n",
              "\n",
              "        async function convertToInteractive(key) {\n",
              "          const element = document.querySelector('#df-81e832ca-357f-49fa-93a0-da9801a93937');\n",
              "          const dataTable =\n",
              "            await google.colab.kernel.invokeFunction('convertToInteractive',\n",
              "                                                     [key], {});\n",
              "          if (!dataTable) return;\n",
              "\n",
              "          const docLinkHtml = 'Like what you see? Visit the ' +\n",
              "            '<a target=\"_blank\" href=https://colab.research.google.com/notebooks/data_table.ipynb>data table notebook</a>'\n",
              "            + ' to learn more about interactive tables.';\n",
              "          element.innerHTML = '';\n",
              "          dataTable['output_type'] = 'display_data';\n",
              "          await google.colab.output.renderOutput(dataTable, element);\n",
              "          const docLink = document.createElement('div');\n",
              "          docLink.innerHTML = docLinkHtml;\n",
              "          element.appendChild(docLink);\n",
              "        }\n",
              "      </script>\n",
              "    </div>\n",
              "  </div>\n",
              "  "
            ]
          },
          "metadata": {},
          "execution_count": 7
        }
      ]
    },
    {
      "cell_type": "code",
      "source": [
        "data.columns.values"
      ],
      "metadata": {
        "colab": {
          "base_uri": "https://localhost:8080/"
        },
        "id": "11Fd9dVNH7c3",
        "outputId": "2d89b783-970d-4bc4-a816-eb53bb9da3aa"
      },
      "execution_count": 8,
      "outputs": [
        {
          "output_type": "execute_result",
          "data": {
            "text/plain": [
              "array(['Id', 'Data', 'Tipo', 'Inabitavel', 'Valor_reclamado',\n",
              "       'Fraudulento', 'Data_Apolice', 'Cobertura', 'Valor_dedutivel',\n",
              "       'Tamanho_cidade', 'Sexo', 'Nascimento', 'Formação',\n",
              "       'Inicio_trabalho', 'Aposentado', 'Renda', 'Estado_Civil',\n",
              "       'Data_Ocupacao', 'residencia_primaria'], dtype=object)"
            ]
          },
          "metadata": {},
          "execution_count": 8
        }
      ]
    },
    {
      "cell_type": "markdown",
      "source": [
        "#Análise da Estatistica Descritiva das principais colunas"
      ],
      "metadata": {
        "id": "D4aKeoW_2eAk"
      }
    },
    {
      "cell_type": "code",
      "source": [
        "data['Tipo'].hist()\n",
        "data['Tipo'].value_counts()"
      ],
      "metadata": {
        "colab": {
          "base_uri": "https://localhost:8080/",
          "height": 369
        },
        "id": "oDYqFM1EIa3D",
        "outputId": "f4c63700-92f2-4de1-bdba-4d6c23b21fa5"
      },
      "execution_count": 9,
      "outputs": [
        {
          "output_type": "execute_result",
          "data": {
            "text/plain": [
              "5    1291\n",
              "1    1054\n",
              "3    1039\n",
              "2     627\n",
              "4     404\n",
              "Name: Tipo, dtype: int64"
            ]
          },
          "metadata": {},
          "execution_count": 9
        },
        {
          "output_type": "display_data",
          "data": {
            "text/plain": [
              "<Figure size 432x288 with 1 Axes>"
            ],
            "image/png": "[encoded data removed]"
          },
          "metadata": {
            "needs_background": "light"
          }
        }
      ]
    },
    {
      "cell_type": "code",
      "source": [
        "data['Tamanho_cidade'].hist()\n",
        "data['Tamanho_cidade'].value_counts()"
      ],
      "metadata": {
        "colab": {
          "base_uri": "https://localhost:8080/",
          "height": 369
        },
        "id": "CWujiQaKKBhp",
        "outputId": "a29cf426-208d-4935-a5ff-80c857eec67f"
      },
      "execution_count": 10,
      "outputs": [
        {
          "output_type": "execute_result",
          "data": {
            "text/plain": [
              "1    1133\n",
              "2    1048\n",
              "3     887\n",
              "4     810\n",
              "5     537\n",
              "Name: Tamanho_cidade, dtype: int64"
            ]
          },
          "metadata": {},
          "execution_count": 10
        },
        {
          "output_type": "display_data",
          "data": {
            "text/plain": [
              "<Figure size 432x288 with 1 Axes>"
            ],
            "image/png": "[encoded data removed]"
          },
          "metadata": {
            "needs_background": "light"
          }
        }
      ]
    },
    {
      "cell_type": "code",
      "source": [
        "data['Valor_reclamado'].hist()"
      ],
      "metadata": {
        "colab": {
          "base_uri": "https://localhost:8080/",
          "height": 282
        },
        "id": "A0RfiuezKeAF",
        "outputId": "f1d7d839-c4db-4d01-bb0c-576cb79a6eef"
      },
      "execution_count": 11,
      "outputs": [
        {
          "output_type": "execute_result",
          "data": {
            "text/plain": [
              "<matplotlib.axes._subplots.AxesSubplot at 0x7ff9116b7810>"
            ]
          },
          "metadata": {},
          "execution_count": 11
        },
        {
          "output_type": "display_data",
          "data": {
            "text/plain": [
              "<Figure size 432x288 with 1 Axes>"
            ],
            "image/png": "[encoded data removed]"
          },
          "metadata": {
            "needs_background": "light"
          }
        }
      ]
    },
    {
      "cell_type": "code",
      "source": [
        "data['Renda'].hist()"
      ],
      "metadata": {
        "colab": {
          "base_uri": "https://localhost:8080/",
          "height": 282
        },
        "id": "i4L2aGNLKroG",
        "outputId": "05730917-66f0-42e4-b7b2-0c3ef4e75a5d"
      },
      "execution_count": 12,
      "outputs": [
        {
          "output_type": "execute_result",
          "data": {
            "text/plain": [
              "<matplotlib.axes._subplots.AxesSubplot at 0x7ff9116a78d0>"
            ]
          },
          "metadata": {},
          "execution_count": 12
        },
        {
          "output_type": "display_data",
          "data": {
            "text/plain": [
              "<Figure size 432x288 with 1 Axes>"
            ],
            "image/png": "[encoded data removed]"
          },
          "metadata": {
            "needs_background": "light"
          }
        }
      ]
    },
    {
      "cell_type": "code",
      "source": [
        "data['Fraudulento'].hist()\n",
        "data['Fraudulento'].value_counts()"
      ],
      "metadata": {
        "colab": {
          "base_uri": "https://localhost:8080/",
          "height": 317
        },
        "id": "n8JLIj1OK0w1",
        "outputId": "7c10e227-b6b7-4721-fd6c-6abb3b01637a"
      },
      "execution_count": 13,
      "outputs": [
        {
          "output_type": "execute_result",
          "data": {
            "text/plain": [
              "0    3952\n",
              "1     463\n",
              "Name: Fraudulento, dtype: int64"
            ]
          },
          "metadata": {},
          "execution_count": 13
        },
        {
          "output_type": "display_data",
          "data": {
            "text/plain": [
              "<Figure size 432x288 with 1 Axes>"
            ],
            "image/png": "[encoded data removed]"
          },
          "metadata": {
            "needs_background": "light"
          }
        }
      ]
    },
    {
      "cell_type": "code",
      "source": [
        ""
      ],
      "metadata": {
        "id": "oDRDA8_MMjFj"
      },
      "execution_count": 26,
      "outputs": []
    }
  ]
}